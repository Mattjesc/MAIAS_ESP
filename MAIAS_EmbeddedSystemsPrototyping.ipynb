{
 "cells": [
  {
   "cell_type": "code",
   "execution_count": null,
   "metadata": {},
   "outputs": [],
   "source": [
    "# Install required packages\n",
    "# This setup ensures that your project's dependencies are isolated from other projects.\n",
    "# Creating a virtual environment helps to manage dependencies and avoid conflicts.\n",
    "# The steps include:\n",
    "# 1. Creating a virtual environment.\n",
    "# 2. Activating the virtual environment (instructions provided for both macOS/Linux and Windows).\n",
    "# 3. Installing the necessary packages.\n",
    "# Note: In this example, we use macOS/Linux. For Windows, follow the commented instructions.\n",
    "\n",
    "# Create a virtual environment named 'env' using Python 3.10 (or any version between 3.10 and 3.13)\n",
    "# Run this command in your terminal or Jupyter cell\n",
    "!python3.12 -m venv env  # Replace Python version with your installed version\n",
    "\n",
    "# Activate the virtual environment (macOS/Linux)\n",
    "# This step is usually done in the terminal. Uncomment and run these commands manually in your terminal.\n",
    "# source env/bin/activate\n",
    "\n",
    "# For Windows, use the following command to activate the virtual environment:\n",
    "# env\\Scripts\\activate\n"
   ]
  },
  {
   "cell_type": "code",
   "execution_count": null,
   "metadata": {},
   "outputs": [],
   "source": [
    "# After activation, install the necessary packages\n",
    "# We use '%pip install' in Jupyter to ensure the installation is done in the correct environment\n",
    "\n",
    "# The packages listed below are essential for running the Multi Agent AI Systems: Embedded Systems Prototyping example.\n",
    "# Depending on your specific requirements, you might need to install additional packages.\n",
    "# For instance, you may choose to use different AI models, APIs, or tools which could require other dependencies.\n",
    "# In this example, we install:\n",
    "# - crewai: For defining and managing AI agents and tasks.\n",
    "# - crewai_tools: For additional tools like SerperDevTool used in the project.\n",
    "# - ipython: To enable displaying markdown content in Jupyter notebooks.\n",
    "# - openai: To use OpenAI's GPT-3.5-turbo model for AI interactions.\n",
    "# - pydantic: A version of Pydantic compatible with crewai.\n",
    "# - langchain: A version of LangChain compatible with Pydantic.\n",
    "\n",
    "%pip install crewai\n",
    "%pip install crewai_tools\n",
    "%pip install ipython\n",
    "%pip install openai\n",
    "%pip install pydantic\n",
    "%pip install langchain"
   ]
  },
  {
   "cell_type": "code",
   "execution_count": null,
   "metadata": {},
   "outputs": [],
   "source": [
    "# These imports allow us to set up and manage our AI agents, their tasks, and display the results in a readable format.\n",
    "# The os module is used to handle environment variables for API keys.\n",
    "# IPython.display is used to render markdown content in Jupyter notebooks.\n",
    "# crewai provides the framework for defining and running AI agents and their tasks.\n",
    "# crewai_tools includes tools like SerperDevTool for search capabilities.\n",
    "\n",
    "import os\n",
    "from IPython.display import Markdown, display\n",
    "from crewai import Agent, Task, Crew, Process\n",
    "from crewai_tools import SerperDevTool"
   ]
  },
  {
   "cell_type": "code",
   "execution_count": null,
   "metadata": {},
   "outputs": [],
   "source": [
    "# Function to get API keys (you need to define these functions to get the keys)\n",
    "# Users have choices on search API integration and AI API key.\n",
    "# The provided example uses OpenAI's GPT-3.5-turbo for the AI model and Serper.dev for search capabilities.\n",
    "# You can replace these with other AI LLM APIs and search tools from different vendors as per your requirements.\n",
    "\n",
    "def get_openai_api_key():\n",
    "    return \"Your_OpenAI_API_Key\"\n",
    "\n",
    "def get_serper_api_key():\n",
    "    return \"Your_Serper_API_Key\""
   ]
  },
  {
   "cell_type": "code",
   "execution_count": null,
   "metadata": {},
   "outputs": [],
   "source": [
    "# Set environment variables for API keys and model selection\n",
    "# The output and capabilities of this system will depend largely on the large language models used.\n",
    "# Due to financial constraints, the code example here is using gpt-3.5-turbo.\n",
    "# You can also use other AI LLM APIs from different vendors and format if you like.\n",
    "\n",
    "openai_api_key = get_openai_api_key()\n",
    "serper_api_key = get_serper_api_key()\n",
    "\n",
    "os.environ[\"OPENAI_API_KEY\"] = openai_api_key\n",
    "os.environ[\"SERPER_API_KEY\"] = serper_api_key\n",
    "os.environ[\"OPENAI_MODEL_NAME\"] = 'gpt-3.5-turbo'"
   ]
  },
  {
   "cell_type": "code",
   "execution_count": null,
   "metadata": {},
   "outputs": [],
   "source": [
    "# The search_tool variable is an instance of SerperDevTool.\n",
    "# SerperDevTool is a tool provided by crewai_tools for performing search operations using Serper.dev.\n",
    "# This tool can be used by agents to perform web searches and gather information as part of their tasks.\n",
    "# Initializing this tool here allows us to use it in various agents and tasks throughout our system.\n",
    "# Initialize the search tool from Serper.dev\n",
    "\n",
    "search_tool = SerperDevTool()"
   ]
  },
  {
   "cell_type": "code",
   "execution_count": null,
   "metadata": {},
   "outputs": [],
   "source": [
    "# The generate_architectural_diagram function returns a string containing Mermaid syntax.\n",
    "# Mermaid is a markdown-like language used for generating diagrams and flowcharts.\n",
    "# This function creates an architectural diagram of an embedded system using Mermaid syntax.\n",
    "# The diagram includes various components such as the embedded device, firmware, microcontroller, sensor module, communication module, power supply, actuator, cloud server, database, and mobile/PC application.\n",
    "# This function will be used by the Solution Architect Agent to generate and display the system architecture in a readable diagram format.\n",
    "# Function to generate Mermaid diagram for the architectural diagram\n",
    "def generate_architectural_diagram():\n",
    "    return \"\"\"\n",
    "    graph TD;\n",
    "        A[User] --> B[Embedded Device]\n",
    "        B --> C[Firmware]\n",
    "        B --> D[Microcontroller]\n",
    "        D --> E[Sensor Module]\n",
    "        D --> F[Communication Module]\n",
    "        B --> G[Power Supply]\n",
    "        B --> H[Actuator]\n",
    "        B --> I[Cloud Server]\n",
    "        I --> J[Database]\n",
    "        I --> K[Mobile/PC Application]\n",
    "    \"\"\""
   ]
  },
  {
   "cell_type": "code",
   "execution_count": null,
   "metadata": {},
   "outputs": [],
   "source": [
    "# Creating the Ideation Agent\n",
    "ideation_agent = Agent(\n",
    "    role='Product Ideation Specialist',\n",
    "    goal='Identify a viable industry and use case for the product.',\n",
    "    verbose=True,\n",
    "    memory=True,\n",
    "    backstory=(\n",
    "        \"An experienced professional in product development who excels at \"\n",
    "        \"identifying market needs and brainstorming innovative solutions.\"\n",
    "    ),\n",
    "    tools=[search_tool]\n",
    ")"
   ]
  },
  {
   "cell_type": "code",
   "execution_count": null,
   "metadata": {},
   "outputs": [],
   "source": [
    "# Creating the Market Research Agent\n",
    "market_research_agent = Agent(\n",
    "    role='Market Analyst',\n",
    "    goal='Conduct market research to understand the problem and pricing.',\n",
    "    verbose=True,\n",
    "    memory=True,\n",
    "    backstory=(\n",
    "        \"A data-driven analyst with a knack for uncovering market trends and consumer behavior.\"\n",
    "    ),\n",
    "    tools=[search_tool]\n",
    ")"
   ]
  },
  {
   "cell_type": "code",
   "execution_count": null,
   "metadata": {},
   "outputs": [],
   "source": [
    "# Creating the Technical Specification Agent\n",
    "technical_spec_agent = Agent(\n",
    "    role='Requirements Engineer',\n",
    "    goal='Develop a detailed requirements specification document.',\n",
    "    verbose=True,\n",
    "    memory=True,\n",
    "    backstory=(\n",
    "        \"An engineer with a strong background in defining technical requirements and documentation.\"\n",
    "    ),\n",
    "    tools=[]\n",
    ")"
   ]
  },
  {
   "cell_type": "code",
   "execution_count": null,
   "metadata": {},
   "outputs": [],
   "source": [
    "# Creating the Solution Architect Agent\n",
    "solution_architect_agent = Agent(\n",
    "    role='Solution Architect',\n",
    "    goal='Design the architecture of the embedded system.',\n",
    "    verbose=True,\n",
    "    memory=True,\n",
    "    backstory=(\n",
    "        \"An expert in embedded systems with extensive experience in hardware and software design.\"\n",
    "    ),\n",
    "    tools=[],\n",
    "    additional_actions=[\n",
    "        lambda: f\"Architectural Diagram:\\n{generate_architectural_diagram()}\"\n",
    "    ]\n",
    ")"
   ]
  },
  {
   "cell_type": "code",
   "execution_count": null,
   "metadata": {},
   "outputs": [],
   "source": [
    "# Creating the Component Selection Agent\n",
    "component_selection_agent = Agent(\n",
    "    role='Component Engineer',\n",
    "    goal='Select appropriate components and finalize the design.',\n",
    "    verbose=True,\n",
    "    memory=True,\n",
    "    backstory=(\n",
    "        \"A meticulous engineer who excels at choosing the best components for a project.\"\n",
    "    ),\n",
    "    tools=[]\n",
    ")"
   ]
  },
  {
   "cell_type": "code",
   "execution_count": null,
   "metadata": {},
   "outputs": [],
   "source": [
    "# Creating the Test Plan Agent\n",
    "test_plan_agent = Agent(\n",
    "    role='Test Engineer',\n",
    "    goal='Develop a comprehensive test plan.',\n",
    "    verbose=True,\n",
    "    memory=True,\n",
    "    backstory=(\n",
    "        \"An engineer specializing in validation and verification of hardware and software designs.\"\n",
    "    ),\n",
    "    tools=[]\n",
    ")"
   ]
  },
  {
   "cell_type": "code",
   "execution_count": null,
   "metadata": {},
   "outputs": [],
   "source": [
    "# Creating the Implementation Agent\n",
    "implementation_agent = Agent(\n",
    "    role='Software Developer',\n",
    "    goal='Implement the design through detailed coding and programming.',\n",
    "    verbose=True,\n",
    "    memory=True,\n",
    "    backstory=(\n",
    "        \"A skilled software developer with expertise in embedded systems programming.\"\n",
    "    ),\n",
    "    tools=[]\n",
    ")"
   ]
  },
  {
   "cell_type": "code",
   "execution_count": null,
   "metadata": {},
   "outputs": [],
   "source": [
    "# Creating the Documentation Agent\n",
    "documentation_agent = Agent(\n",
    "    role='Technical Writer',\n",
    "    goal='Compile final summary documentation for the client.',\n",
    "    verbose=True,\n",
    "    memory=True,\n",
    "    backstory=(\n",
    "        \"An expert in creating clear and comprehensive technical documentation.\"\n",
    "    ),\n",
    "    tools=[]\n",
    ")"
   ]
  },
  {
   "cell_type": "code",
   "execution_count": null,
   "metadata": {},
   "outputs": [],
   "source": [
    "# Creating tasks for each phase of the project\n",
    "ideation_task = Task(\n",
    "    description=(\n",
    "        \"Prompt the user for the industry or specific use case. \"\n",
    "        \"Validate the use case with the user until a suitable one is found.\"\n",
    "    ),\n",
    "    expected_output='A validated industry and use case.',\n",
    "    tools=[search_tool],\n",
    "    agent=ideation_agent,\n",
    ")"
   ]
  },
  {
   "cell_type": "code",
   "execution_count": null,
   "metadata": {},
   "outputs": [],
   "source": [
    "market_research_task = Task(\n",
    "    description=(\n",
    "        \"Perform online research on the problem the product will solve. \"\n",
    "        \"Determine the average price customers would pay for the solution.\"\n",
    "    ),\n",
    "    expected_output='A detailed market research report with problem analysis and pricing.',\n",
    "    tools=[search_tool],\n",
    "    agent=market_research_agent,\n",
    ")"
   ]
  },
  {
   "cell_type": "code",
   "execution_count": null,
   "metadata": {},
   "outputs": [],
   "source": [
    "technical_spec_task = Task(\n",
    "    description=(\n",
    "        \"Create a document outlining the product purpose, block diagram flow, main features, and environmental conditions.\"\n",
    "    ),\n",
    "    expected_output='A detailed technical specification document.',\n",
    "    tools=[],\n",
    "    agent=technical_spec_agent,\n",
    ")"
   ]
  },
  {
   "cell_type": "code",
   "execution_count": null,
   "metadata": {},
   "outputs": [],
   "source": [
    "solution_architect_task = Task(\n",
    "    description=(\n",
    "        \"Develop strategies to build the solution. \"\n",
    "        \"Design the firmware, mobile/PC/cloud application architecture. \"\n",
    "        \"Create the architectural diagram using Mermaid.\"\n",
    "    ),\n",
    "    expected_output='An architectural diagram and detailed design strategies.',\n",
    "    tools=[],\n",
    "    agent=solution_architect_agent,\n",
    ")"
   ]
  },
  {
   "cell_type": "code",
   "execution_count": null,
   "metadata": {},
   "outputs": [],
   "source": [
    "component_selection_task = Task(\n",
    "    description=(\n",
    "        \"Decide on the components to be used. \"\n",
    "        \"Finalize the design.\"\n",
    "    ),\n",
    "    expected_output='A list of selected components and finalized design.',\n",
    "    tools=[],\n",
    "    agent=component_selection_agent,\n",
    ")"
   ]
  },
  {
   "cell_type": "code",
   "execution_count": null,
   "metadata": {},
   "outputs": [],
   "source": [
    "test_plan_task = Task(\n",
    "    description=(\n",
    "        \"Create a test plan covering hardware design validation, software design validation, and production-level testing.\"\n",
    "    ),\n",
    "    expected_output='A comprehensive test plan document.',\n",
    "    tools=[],\n",
    "    agent=test_plan_agent,\n",
    ")"
   ]
  },
  {
   "cell_type": "code",
   "execution_count": null,
   "metadata": {},
   "outputs": [],
   "source": [
    "implementation_task = Task(\n",
    "    description=(\n",
    "        \"Code and program the embedded system according to the design specifications in detail.\"\n",
    "    ),\n",
    "    expected_output='Implemented code and program for the embedded system in detail.',\n",
    "    tools=[],\n",
    "    agent=implementation_agent,\n",
    ")"
   ]
  },
  {
   "cell_type": "code",
   "execution_count": null,
   "metadata": {},
   "outputs": [],
   "source": [
    "documentation_task = Task(\n",
    "    description=(\n",
    "        \"Create user guides, technical details, and final summary documents. \"\n",
    "        \"Integrate necessary diagrams (e.g., architectural diagrams) using Mermaid.\"\n",
    "    ),\n",
    "    expected_output='Complete documentation with user guides and technical details.',\n",
    "    tools=[],\n",
    "    agent=documentation_agent,\n",
    ")"
   ]
  },
  {
   "cell_type": "code",
   "execution_count": null,
   "metadata": {},
   "outputs": [],
   "source": [
    "# Forming the embedded systems team crew with the defined agents and tasks\n",
    "embedded_systems_crew = Crew(\n",
    "    agents=[\n",
    "        ideation_agent,\n",
    "        market_research_agent,\n",
    "        technical_spec_agent,\n",
    "        solution_architect_agent,\n",
    "        component_selection_agent,\n",
    "        test_plan_agent,\n",
    "        implementation_agent,\n",
    "        documentation_agent\n",
    "    ],\n",
    "    tasks=[\n",
    "        ideation_task,\n",
    "        market_research_task,\n",
    "        technical_spec_task,\n",
    "        solution_architect_task,\n",
    "        component_selection_task,\n",
    "        test_plan_task,\n",
    "        implementation_task,\n",
    "        documentation_task\n",
    "    ],\n",
    "    process=Process.sequential\n",
    ")"
   ]
  },
  {
   "cell_type": "code",
   "execution_count": null,
   "metadata": {},
   "outputs": [],
   "source": [
    "# Kicking off the crew with initial inputs (this should be interactive based on your use case)\n",
    "result = embedded_systems_crew.kickoff(inputs={'industry': 'Healthcare', 'use_case': 'Remote Patient Monitoring'})"
   ]
  },
  {
   "cell_type": "code",
   "execution_count": null,
   "metadata": {},
   "outputs": [],
   "source": [
    "# Printing the result\n",
    "# print(result)\n",
    "\n",
    "# OR\n",
    "\n",
    "# Displaying the result using markdown\n",
    "display(Markdown(result))"
   ]
  }
 ],
 "metadata": {
  "kernelspec": {
   "display_name": "Python 3 (ipykernel)",
   "language": "python",
   "name": "python3"
  },
  "language_info": {
   "codemirror_mode": {
    "name": "ipython",
    "version": 3
   },
   "file_extension": ".py",
   "mimetype": "text/x-python",
   "name": "python",
   "nbconvert_exporter": "python",
   "pygments_lexer": "ipython3",
   "version": "3.12.4"
  }
 },
 "nbformat": 4,
 "nbformat_minor": 4
}
